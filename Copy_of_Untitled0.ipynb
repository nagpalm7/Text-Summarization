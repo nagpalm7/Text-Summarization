{
  "nbformat": 4,
  "nbformat_minor": 0,
  "metadata": {
    "colab": {
      "name": "Copy of Untitled0.ipynb",
      "version": "0.3.2",
      "provenance": [],
      "include_colab_link": true
    },
    "kernelspec": {
      "name": "python3",
      "display_name": "Python 3"
    },
    "accelerator": "GPU"
  },
  "cells": [
    {
      "cell_type": "markdown",
      "metadata": {
        "id": "view-in-github",
        "colab_type": "text"
      },
      "source": [
        "<a href=\"https://colab.research.google.com/github/nagpalm7/Text-Summarization/blob/master/Copy_of_Untitled0.ipynb\" target=\"_parent\"><img src=\"https://colab.research.google.com/assets/colab-badge.svg\" alt=\"Open In Colab\"/></a>"
      ]
    },
    {
      "cell_type": "code",
      "metadata": {
        "id": "agOisieOMA8G",
        "colab_type": "code",
        "colab": {}
      },
      "source": [
        "# pip install attention.py"
      ],
      "execution_count": 0,
      "outputs": []
    },
    {
      "cell_type": "code",
      "metadata": {
        "id": "XxzhLiDPMhNB",
        "colab_type": "code",
        "colab": {}
      },
      "source": [
        "from attention import AttentionLayer"
      ],
      "execution_count": 0,
      "outputs": []
    },
    {
      "cell_type": "code",
      "metadata": {
        "id": "b6PNWjhkNLLf",
        "colab_type": "code",
        "colab": {}
      },
      "source": [
        "import numpy as np\n",
        "import pandas as pd\n",
        "import re\n",
        "from bs4 import BeautifulSoup\n",
        "from keras.preprocessing.text import Tokenizer\n",
        "from keras.preprocessing.sequence import pad_sequences\n",
        "from nltk.corpus import stopwords\n",
        "from tensorflow.keras.layers import Input, LSTM, Embedding, Dense, Concatenate, TimeDistributed\n",
        "from tensorflow.keras.models import Model\n",
        "from tensorflow.keras.callbacks import EarlyStopping\n",
        "import warnings\n",
        "import nltk\n",
        "from nltk import word_tokenize\n",
        "nltk.download('all')\n",
        "from nltk.corpus import stopwords\n",
        "warnings.filterwarnings(\"ignore\")"
      ],
      "execution_count": 0,
      "outputs": []
    },
    {
      "cell_type": "code",
      "metadata": {
        "id": "QRRKOVQpZFRB",
        "colab_type": "code",
        "outputId": "78f53184-c4d7-4800-dc93-cd49b307a2ff",
        "colab": {
          "base_uri": "https://localhost:8080/",
          "height": 122
        }
      },
      "source": [
        "# from google.colab import drive\n",
        "# drive.mount('/content/gdrive')"
      ],
      "execution_count": 0,
      "outputs": [
        {
          "output_type": "stream",
          "text": [
            "Go to this URL in a browser: https://accounts.google.com/o/oauth2/auth?client_id=947318989803-6bn6qk8qdgf4n4g3pfee6491hc0brc4i.apps.googleusercontent.com&redirect_uri=urn%3Aietf%3Awg%3Aoauth%3A2.0%3Aoob&scope=email%20https%3A%2F%2Fwww.googleapis.com%2Fauth%2Fdocs.test%20https%3A%2F%2Fwww.googleapis.com%2Fauth%2Fdrive%20https%3A%2F%2Fwww.googleapis.com%2Fauth%2Fdrive.photos.readonly%20https%3A%2F%2Fwww.googleapis.com%2Fauth%2Fpeopleapi.readonly&response_type=code\n",
            "\n",
            "Enter your authorization code:\n",
            "··········\n",
            "Mounted at /content/gdrive\n"
          ],
          "name": "stdout"
        }
      ]
    },
    {
      "cell_type": "code",
      "metadata": {
        "id": "1v0oKK24DUrj",
        "colab_type": "code",
        "outputId": "582a1560-06f6-4923-b04e-9b8b5d1e8f26",
        "colab": {
          "base_uri": "https://localhost:8080/",
          "height": 85
        }
      },
      "source": [
        "# !unzip gdrive/My\\ Drive/amazon-fine-food-reviews.zip"
      ],
      "execution_count": 0,
      "outputs": [
        {
          "output_type": "stream",
          "text": [
            "Archive:  gdrive/My Drive/amazon-fine-food-reviews.zip\n",
            "  inflating: Reviews.csv             \n",
            "  inflating: database.sqlite         \n",
            "  inflating: hashes.txt              \n"
          ],
          "name": "stdout"
        }
      ]
    },
    {
      "cell_type": "code",
      "metadata": {
        "id": "2mnw6r8MSpk1",
        "colab_type": "code",
        "colab": {}
      },
      "source": [
        "#Data Pre-processing\n",
        "def text_clean(text,n):\n",
        "  processed_string=text.lower()\n",
        "  processed_string=re.sub(r'[^\\w\\s]','',processed_string)\n",
        "  \n",
        " #word_tokens=word_tokenize(processed_string)\n",
        "  stop_words = set(stopwords.words('english'))\n",
        "  new=processed_string.split()\n",
        "  tokens=[]\n",
        "  for w in new:\n",
        "    if w not in stop_words:\n",
        "      tokens.append(w)\n",
        "  long_words=[]\n",
        "  for i in tokens:\n",
        "        if len(i)>1:                                                 #removing short word\n",
        "            long_words.append(i)   \n",
        "  return (\" \".join(long_words)).strip()\n",
        "      \n",
        "      \n",
        "  \n",
        "  \n",
        "  \n",
        "  \n",
        "  "
      ],
      "execution_count": 0,
      "outputs": []
    },
    {
      "cell_type": "code",
      "metadata": {
        "id": "Po7wimpcRNtV",
        "colab_type": "code",
        "colab": {}
      },
      "source": [
        "#Data importing and passing it for text cleaning\n",
        "data=pd.read_csv(\"Reviews.csv\",nrows=20000)\n",
        "cleaned_text=[]\n",
        "cleaned_summary=[]\n",
        "# for lines in data['Text']:\n",
        "#   clean_text.append(text_clean(lines,0))  \n",
        "for i in range(0,20000):\n",
        "  cleaned_text.append(text_clean(data['Text'][i],0))\n",
        "  cleaned_summary.append(text_clean(data['Summary'][i],0))"
      ],
      "execution_count": 0,
      "outputs": []
    },
    {
      "cell_type": "code",
      "metadata": {
        "id": "YGJQO5GsgNb4",
        "colab_type": "code",
        "colab": {}
      },
      "source": [
        "#Tokenization of sentences\n",
        "##Sentences tokenized into words and stored in a list\n",
        "#from nltk.tokenize import word_tokenize\n",
        "#words=[]\n",
        "#for i in range(0,5000):\n",
        " # words.append(word_tokenize(string[i]))\n",
        "  \n",
        "#print(len(words))\n",
        "#print(len(words[0]))"
      ],
      "execution_count": 0,
      "outputs": []
    },
    {
      "cell_type": "code",
      "metadata": {
        "id": "RtyKVtw_WFhZ",
        "colab_type": "code",
        "outputId": "7cb2914e-3f72-4959-b757-d1aca370ca3d",
        "colab": {
          "base_uri": "https://localhost:8080/",
          "height": 70
        }
      },
      "source": [
        "print(cleaned_text[0])\n",
        "print(data['Text'][0])\n",
        "\n"
      ],
      "execution_count": 8,
      "outputs": [
        {
          "output_type": "stream",
          "text": [
            "bought several vitality canned dog food products found good quality product looks like stew processed meat smells better labrador finicky appreciates product better\n",
            "I have bought several of the Vitality canned dog food products and have found them all to be of good quality. The product looks more like a stew than a processed meat and it smells better. My Labrador is finicky and she appreciates this product better than  most.\n"
          ],
          "name": "stdout"
        }
      ]
    },
    {
      "cell_type": "code",
      "metadata": {
        "id": "mS0czQlm7LvS",
        "colab_type": "code",
        "outputId": "049c5cd1-5ddd-4ed5-9ec4-58153b7c28ea",
        "colab": {
          "base_uri": "https://localhost:8080/",
          "height": 50
        }
      },
      "source": [
        "print(cleaned_summary[0])\n",
        "print(data['Summary'][0])\n"
      ],
      "execution_count": 9,
      "outputs": [
        {
          "output_type": "stream",
          "text": [
            "good quality dog food\n",
            "Good Quality Dog Food\n"
          ],
          "name": "stdout"
        }
      ]
    },
    {
      "cell_type": "code",
      "metadata": {
        "id": "7NbWGUkd73Yv",
        "colab_type": "code",
        "colab": {}
      },
      "source": [
        "data['cleaned_text']=cleaned_text\n",
        "data['cleaned_summary']=cleaned_summary\n"
      ],
      "execution_count": 0,
      "outputs": []
    },
    {
      "cell_type": "code",
      "metadata": {
        "id": "xA2k_FsG8JqS",
        "colab_type": "code",
        "colab": {}
      },
      "source": [
        "max_length_text=30\n",
        "max_summary_len=8\n",
        "\n"
      ],
      "execution_count": 0,
      "outputs": []
    },
    {
      "cell_type": "code",
      "metadata": {
        "id": "otk2DG5LN6UB",
        "colab_type": "code",
        "colab": {}
      },
      "source": [
        ""
      ],
      "execution_count": 0,
      "outputs": []
    },
    {
      "cell_type": "code",
      "metadata": {
        "id": "LFYprjQn_GLQ",
        "colab_type": "code",
        "outputId": "c037c234-c588-413a-dd39-bd15f564b78d",
        "colab": {
          "base_uri": "https://localhost:8080/",
          "height": 34
        }
      },
      "source": [
        "len(cleaned_text)\n",
        "len(cleaned_summary)"
      ],
      "execution_count": 12,
      "outputs": [
        {
          "output_type": "execute_result",
          "data": {
            "text/plain": [
              "20000"
            ]
          },
          "metadata": {
            "tags": []
          },
          "execution_count": 12
        }
      ]
    },
    {
      "cell_type": "code",
      "metadata": {
        "id": "zIQ4GN0r_uH1",
        "colab_type": "code",
        "colab": {}
      },
      "source": [
        "short_text=[]\n",
        "short_summary=[]\n",
        "for i in range(0,len(cleaned_text)):\n",
        "  if(len(cleaned_summary[i].split())<=max_summary_len and len(cleaned_text[i].split())<=max_length_text):\n",
        "    short_text.append(cleaned_text[i])\n",
        "    short_summary.append(cleaned_summary[i])\n",
        "    \n",
        "df=pd.DataFrame({\"text\":short_text,\"summary\":short_summary})"
      ],
      "execution_count": 0,
      "outputs": []
    },
    {
      "cell_type": "code",
      "metadata": {
        "id": "1DjOsHZfB4gG",
        "colab_type": "code",
        "colab": {}
      },
      "source": [
        "df['summary'] = df['summary'].apply(lambda x : 'sostok '+ x + ' eostok')"
      ],
      "execution_count": 0,
      "outputs": []
    },
    {
      "cell_type": "code",
      "metadata": {
        "id": "C4D61yRhUs2E",
        "colab_type": "code",
        "colab": {}
      },
      "source": [
        "from sklearn.model_selection import train_test_split\n",
        "X_train, X_test, y_train, y_test = train_test_split(np.array(df['text']),np.array(df['summary']),test_size=0.1,random_state=0,shuffle=True)"
      ],
      "execution_count": 0,
      "outputs": []
    },
    {
      "cell_type": "code",
      "metadata": {
        "id": "7F8PAuB0W-lW",
        "colab_type": "code",
        "colab": {}
      },
      "source": [
        "from keras.preprocessing.text import Tokenizer \n",
        "from keras.preprocessing.sequence import pad_sequences\n",
        "x_tokenizer=Tokenizer()\n",
        "x_tokenizer.fit_on_texts((X_train))"
      ],
      "execution_count": 0,
      "outputs": []
    },
    {
      "cell_type": "code",
      "metadata": {
        "id": "eehc0AIRaXOv",
        "colab_type": "code",
        "outputId": "c4a31be4-7233-4671-937f-a1b282e87160",
        "colab": {
          "base_uri": "https://localhost:8080/",
          "height": 34
        }
      },
      "source": [
        "#Definings rare words\n",
        "threshold=4\n",
        "count=0\n",
        "tot_count=0\n",
        "frequency=0\n",
        "tot_frequency=0\n",
        "common_words=0\n",
        "for key,value in x_tokenizer.word_counts.items():\n",
        "  tot_count=tot_count+1\n",
        "  tot_frequency=tot_frequency+value\n",
        "  \n",
        "  if(value<threshold):\n",
        "    count=count+1\n",
        "    frequency=frequency+value\n",
        "    \n",
        "common_words=tot_count-count\n",
        "print(tot_frequency)    \n",
        "  "
      ],
      "execution_count": 17,
      "outputs": [
        {
          "output_type": "stream",
          "text": [
            "176978\n"
          ],
          "name": "stdout"
        }
      ]
    },
    {
      "cell_type": "code",
      "metadata": {
        "id": "3EJbA8W6OqfT",
        "colab_type": "code",
        "colab": {}
      },
      "source": [
        "#Now we will prepare the tokenizer only for the topmost common words which are not rare\n",
        "\n",
        "x_tokenizer=Tokenizer(common_words)\n",
        "\n",
        "x_tokenizer.fit_on_texts((X_train))\n",
        "\n",
        "\n",
        "x_tr_seq=x_tokenizer.texts_to_sequences(X_train)\n",
        "x_val_seq=x_tokenizer.texts_to_sequences(X_test)\n",
        "\n",
        "X_train  = pad_sequences(x_tr_seq,  maxlen=max_length_text, padding='post')\n",
        "X_test   = pad_sequences(x_val_seq, maxlen=max_length_text, padding='post')\n",
        "\n",
        "\n",
        "x_voc=len(x_tokenizer.word_index) + 1\n",
        "\n"
      ],
      "execution_count": 0,
      "outputs": []
    },
    {
      "cell_type": "code",
      "metadata": {
        "id": "7VKaxHHiOEi_",
        "colab_type": "code",
        "outputId": "0b8e059a-1fc4-411d-ed73-471eb621930d",
        "colab": {
          "base_uri": "https://localhost:8080/",
          "height": 34
        }
      },
      "source": [
        "y_tokenizer=Tokenizer()\n",
        "y_tokenizer.fit_on_texts((y_train))\n",
        "threshold=6\n",
        "cnt=0\n",
        "tot_cnt=0\n",
        "freq=0\n",
        "tot_freq=0\n",
        "common_words=0\n",
        "for key,value in y_tokenizer.word_counts.items():\n",
        "  tot_cnt=tot_cnt+1\n",
        "  tot_freq=tot_freq+value\n",
        "  if(value<threshold):\n",
        "    cnt=cnt+1\n",
        "    freq=freq+value\n",
        "    \n",
        "common_words=tot_cnt-cnt\n",
        "y_tokenizer=Tokenizer(common_words)\n",
        "y_tokenizer.fit_on_texts((y_train))\n",
        "\n",
        "\n",
        "y_tr_seq=x_tokenizer.texts_to_sequences(y_train)\n",
        "y_val_seq=x_tokenizer.texts_to_sequences(y_test)\n",
        "\n",
        "y_train  = pad_sequences(x_tr_seq,  maxlen=max_summary_len, padding='post')\n",
        "y_test   = pad_sequences(x_val_seq, maxlen=max_summary_len, padding='post')\n",
        "\n",
        "\n",
        "y_voc=len(y_tokenizer.word_index) + 1\n",
        "y_voc\n",
        "    "
      ],
      "execution_count": 19,
      "outputs": [
        {
          "output_type": "execute_result",
          "data": {
            "text/plain": [
              "4061"
            ]
          },
          "metadata": {
            "tags": []
          },
          "execution_count": 19
        }
      ]
    },
    {
      "cell_type": "code",
      "metadata": {
        "id": "JC-GBks8UmLe",
        "colab_type": "code",
        "colab": {}
      },
      "source": [
        "y_tokenizer.word_counts['sostok'],len(y_train)\n",
        "ind=[]\n",
        "for i in range(len(y_train)):\n",
        "    cnt=0\n",
        "    for j in y_train[i]:\n",
        "        if j!=0:\n",
        "            cnt=cnt+1\n",
        "    if(cnt==2):\n",
        "        ind.append(i)\n",
        "\n",
        "y_train=np.delete(y_train,ind, axis=0)\n",
        "X_train=np.delete(X_train,ind, axis=0)\n",
        "\n",
        "\n",
        "ind=[]\n",
        "for i in range(len(y_test)):\n",
        "    cnt=0\n",
        "    for j in y_test[i]:\n",
        "        if j!=0:\n",
        "            cnt=cnt+1\n",
        "    if(cnt==2):\n",
        "        ind.append(i)\n",
        "\n",
        "y_train=np.delete(y_train,ind, axis=0)\n",
        "X_test=np.delete(X_test,ind, axis=0)"
      ],
      "execution_count": 0,
      "outputs": []
    },
    {
      "cell_type": "code",
      "metadata": {
        "id": "EXz6yT2PUs3o",
        "colab_type": "code",
        "outputId": "587a0aa0-e10a-44a7-ac4f-c4e0c60b547a",
        "colab": {
          "base_uri": "https://localhost:8080/",
          "height": 826
        }
      },
      "source": [
        "from keras import backend as K\n",
        "K.clear_session()\n",
        "latent_dim=300\n",
        "embedding_dim=100\n",
        "\n",
        "\n",
        "\n",
        "#Encoder\n",
        "encoder_inputs=Input(shape=(max_length_text,))\n",
        "\n",
        "enc_emb=Embedding(x_voc,embedding_dim,trainable=True)(encoder_inputs)\n",
        "\n",
        "encoder_lstm1=LSTM(latent_dim,return_sequences=True,return_state=True,dropout=0.4,recurrent_dropout=0.4)\n",
        "encoder_output1, state_h1, state_c1 = encoder_lstm1(enc_emb)\n",
        "\n",
        "\n",
        "#encoder lstm 2\n",
        "encoder_lstm2 = LSTM(latent_dim,return_sequences=True,return_state=True,dropout=0.4,recurrent_dropout=0.4)\n",
        "encoder_output2, state_h2, state_c2 = encoder_lstm2(encoder_output1)\n",
        "\n",
        "#encoder lstm 3\n",
        "encoder_lstm3=LSTM(latent_dim, return_state=True, return_sequences=True,dropout=0.4,recurrent_dropout=0.4)\n",
        "encoder_outputs, state_h, state_c= encoder_lstm3(encoder_output2)\n",
        "\n",
        "\n",
        "# Set up the decoder, using `encoder_states` as initial state.\n",
        "decoder_inputs = Input(shape=(None,))\n",
        "\n",
        "#embedding layer\n",
        "dec_emb_layer = Embedding(y_voc, embedding_dim,trainable=True)\n",
        "dec_emb = dec_emb_layer(decoder_inputs)\n",
        "\n",
        "decoder_lstm = LSTM(latent_dim, return_sequences=True, return_state=True,dropout=0.4,recurrent_dropout=0.2)\n",
        "decoder_outputs,decoder_fwd_state, decoder_back_state = decoder_lstm(dec_emb,initial_state=[state_h, state_c])\n",
        "\n",
        "# Attention layer\n",
        "attn_layer = AttentionLayer(name='attention_layer')\n",
        "attn_out, attn_states = attn_layer([encoder_outputs, decoder_outputs])\n",
        "\n",
        "# Concat attention input and decoder LSTM output\n",
        "decoder_concat_input = Concatenate(axis=-1, name='concat_layer')([decoder_outputs, attn_out])\n",
        "\n",
        "#dense layer\n",
        "decoder_dense =  TimeDistributed(Dense(y_voc, activation='softmax'))\n",
        "decoder_outputs = decoder_dense(decoder_concat_input)\n",
        "\n",
        "# Define the model \n",
        "model = Model([encoder_inputs, decoder_inputs], decoder_outputs)\n",
        "\n",
        "model.summary()\n"
      ],
      "execution_count": 21,
      "outputs": [
        {
          "output_type": "stream",
          "text": [
            "WARNING: Logging before flag parsing goes to stderr.\n",
            "W0719 08:43:33.458003 139776032425856 deprecation_wrapper.py:119] From /usr/local/lib/python3.6/dist-packages/keras/backend/tensorflow_backend.py:95: The name tf.reset_default_graph is deprecated. Please use tf.compat.v1.reset_default_graph instead.\n",
            "\n",
            "W0719 08:43:33.459602 139776032425856 deprecation_wrapper.py:119] From /usr/local/lib/python3.6/dist-packages/keras/backend/tensorflow_backend.py:98: The name tf.placeholder_with_default is deprecated. Please use tf.compat.v1.placeholder_with_default instead.\n",
            "\n",
            "W0719 08:43:33.511698 139776032425856 deprecation_wrapper.py:119] From /usr/local/lib/python3.6/dist-packages/keras/backend/tensorflow_backend.py:102: The name tf.get_default_graph is deprecated. Please use tf.compat.v1.get_default_graph instead.\n",
            "\n",
            "W0719 08:43:33.523495 139776032425856 deprecation.py:506] From /usr/local/lib/python3.6/dist-packages/tensorflow/python/keras/initializers.py:119: calling RandomUniform.__init__ (from tensorflow.python.ops.init_ops) with dtype is deprecated and will be removed in a future version.\n",
            "Instructions for updating:\n",
            "Call initializer instance with the dtype argument instead of passing it to the constructor\n",
            "W0719 08:43:33.545717 139776032425856 deprecation.py:506] From /usr/local/lib/python3.6/dist-packages/tensorflow/python/ops/init_ops.py:1251: calling VarianceScaling.__init__ (from tensorflow.python.ops.init_ops) with dtype is deprecated and will be removed in a future version.\n",
            "Instructions for updating:\n",
            "Call initializer instance with the dtype argument instead of passing it to the constructor\n"
          ],
          "name": "stderr"
        },
        {
          "output_type": "stream",
          "text": [
            "Model: \"model\"\n",
            "__________________________________________________________________________________________________\n",
            "Layer (type)                    Output Shape         Param #     Connected to                     \n",
            "==================================================================================================\n",
            "input_1 (InputLayer)            [(None, 30)]         0                                            \n",
            "__________________________________________________________________________________________________\n",
            "embedding (Embedding)           (None, 30, 100)      1426700     input_1[0][0]                    \n",
            "__________________________________________________________________________________________________\n",
            "lstm (LSTM)                     [(None, 30, 300), (N 481200      embedding[0][0]                  \n",
            "__________________________________________________________________________________________________\n",
            "input_2 (InputLayer)            [(None, None)]       0                                            \n",
            "__________________________________________________________________________________________________\n",
            "lstm_1 (LSTM)                   [(None, 30, 300), (N 721200      lstm[0][0]                       \n",
            "__________________________________________________________________________________________________\n",
            "embedding_1 (Embedding)         (None, None, 100)    406100      input_2[0][0]                    \n",
            "__________________________________________________________________________________________________\n",
            "lstm_2 (LSTM)                   [(None, 30, 300), (N 721200      lstm_1[0][0]                     \n",
            "__________________________________________________________________________________________________\n",
            "lstm_3 (LSTM)                   [(None, None, 300),  481200      embedding_1[0][0]                \n",
            "                                                                 lstm_2[0][1]                     \n",
            "                                                                 lstm_2[0][2]                     \n",
            "__________________________________________________________________________________________________\n",
            "attention_layer (AttentionLayer ((None, None, 300),  180300      lstm_2[0][0]                     \n",
            "                                                                 lstm_3[0][0]                     \n",
            "__________________________________________________________________________________________________\n",
            "concat_layer (Concatenate)      (None, None, 600)    0           lstm_3[0][0]                     \n",
            "                                                                 attention_layer[0][0]            \n",
            "__________________________________________________________________________________________________\n",
            "time_distributed (TimeDistribut (None, None, 4061)   2440661     concat_layer[0][0]               \n",
            "==================================================================================================\n",
            "Total params: 6,858,561\n",
            "Trainable params: 6,858,561\n",
            "Non-trainable params: 0\n",
            "__________________________________________________________________________________________________\n"
          ],
          "name": "stdout"
        }
      ]
    },
    {
      "cell_type": "code",
      "metadata": {
        "id": "hOVLg4WXa2je",
        "colab_type": "code",
        "outputId": "9f0b79bc-260e-4a1b-bd34-bc61bde805aa",
        "colab": {
          "base_uri": "https://localhost:8080/",
          "height": 302
        }
      },
      "source": [
        "print(np.shape(X_train))\n",
        "print(np.shape(y_train))\n",
        "print(X_train)\n",
        "\n",
        "print(\"__________________________________________________________________\")\n",
        "\n",
        "print(y_train)\n",
        "\n",
        "\n"
      ],
      "execution_count": 22,
      "outputs": [
        {
          "output_type": "stream",
          "text": [
            "(9681, 30)\n",
            "(9681, 8)\n",
            "[[1607   33   72 ...    0    0    0]\n",
            " [ 279   94   19 ...    0    0    0]\n",
            " [   1   80  322 ...    0    0    0]\n",
            " ...\n",
            " [  82  259  623 ...    0    0    0]\n",
            " [   5   87   46 ...    0    0    0]\n",
            " [ 207  147 1268 ...    0    0    0]]\n",
            "__________________________________________________________________\n",
            "[[  33   72   35 ...   54    7    2]\n",
            " [ 322  736  702 ...   42    2   87]\n",
            " [  15  316   59 ... 1685  112 3017]\n",
            " ...\n",
            " [1564    2   18 ...  206  710  426]\n",
            " [  43  148  163 ...  328 1127  491]\n",
            " [  26  952 1034 ...  218  147  207]]\n"
          ],
          "name": "stdout"
        }
      ]
    },
    {
      "cell_type": "code",
      "metadata": {
        "id": "Ibt3xsdZbam2",
        "colab_type": "code",
        "colab": {}
      },
      "source": [
        "model.compile(optimizer='rmsprop', loss='sparse_categorical_crossentropy')"
      ],
      "execution_count": 0,
      "outputs": []
    },
    {
      "cell_type": "code",
      "metadata": {
        "id": "b81tNJWlaWKa",
        "colab_type": "code",
        "colab": {}
      },
      "source": [
        ""
      ],
      "execution_count": 0,
      "outputs": []
    },
    {
      "cell_type": "code",
      "metadata": {
        "id": "CcPCAKzoeIeu",
        "colab_type": "code",
        "colab": {}
      },
      "source": [
        ""
      ],
      "execution_count": 0,
      "outputs": []
    },
    {
      "cell_type": "code",
      "metadata": {
        "id": "ClTUOD2Gi6CR",
        "colab_type": "code",
        "colab": {}
      },
      "source": [
        "es = EarlyStopping(monitor='val_loss', mode='min', verbose=1,patience=2)\n"
      ],
      "execution_count": 0,
      "outputs": []
    },
    {
      "cell_type": "code",
      "metadata": {
        "id": "0wjCdm-iR3xu",
        "colab_type": "code",
        "outputId": "db2ef1d2-3739-4cf9-863b-d53a5775c6a3",
        "colab": {
          "base_uri": "https://localhost:8080/",
          "height": 336
        }
      },
      "source": [
        "model.fit([X_train,y_train[:,:-1]], y_train.reshape(y_train.shape[0],y_train.shape[1], 1)[:,1:] ,epochs=60,callbacks=[es],batch_size=64, validation_data=([X_test,y_test[:,:-1]], y_test.reshape(y_test.shape[0],y_test.shape[1], 1)[:,1:]))\n"
      ],
      "execution_count": 112,
      "outputs": [
        {
          "output_type": "stream",
          "text": [
            "Train on 9681 samples, validate on 1076 samples\n",
            "Epoch 1/60\n",
            "9681/9681 [==============================] - 28s 3ms/sample - loss: 0.9412 - val_loss: 2.3220\n",
            "Epoch 2/60\n",
            "9681/9681 [==============================] - 28s 3ms/sample - loss: 0.8908 - val_loss: 2.3013\n",
            "Epoch 3/60\n",
            "9681/9681 [==============================] - 27s 3ms/sample - loss: 0.8520 - val_loss: 2.2927\n",
            "Epoch 4/60\n",
            "9681/9681 [==============================] - 27s 3ms/sample - loss: 0.8130 - val_loss: 2.2673\n",
            "Epoch 5/60\n",
            "9681/9681 [==============================] - 27s 3ms/sample - loss: 0.7838 - val_loss: 2.2440\n",
            "Epoch 6/60\n",
            "9681/9681 [==============================] - 27s 3ms/sample - loss: 0.7478 - val_loss: 2.2243\n",
            "Epoch 7/60\n",
            "9681/9681 [==============================] - 27s 3ms/sample - loss: 0.7219 - val_loss: 2.2378\n",
            "Epoch 8/60\n",
            "9681/9681 [==============================] - 28s 3ms/sample - loss: 0.6959 - val_loss: 2.2346\n",
            "Epoch 00008: early stopping\n"
          ],
          "name": "stdout"
        },
        {
          "output_type": "execute_result",
          "data": {
            "text/plain": [
              "<tensorflow.python.keras.callbacks.History at 0x7f1fb08177f0>"
            ]
          },
          "metadata": {
            "tags": []
          },
          "execution_count": 112
        }
      ]
    },
    {
      "cell_type": "code",
      "metadata": {
        "id": "VpmkoZ1DONOF",
        "colab_type": "code",
        "colab": {}
      },
      "source": [
        "reverse_target_word_index=y_tokenizer.index_word\n",
        "reverse_source_word_index=x_tokenizer.index_word\n",
        "target_word_index=y_tokenizer.word_index"
      ],
      "execution_count": 0,
      "outputs": []
    },
    {
      "cell_type": "code",
      "metadata": {
        "id": "NW1lBZ7NR56y",
        "colab_type": "code",
        "colab": {}
      },
      "source": [
        "encoder_model = Model(inputs=encoder_inputs,outputs=[encoder_outputs, state_h, state_c])\n",
        "\n",
        "decoder_state_input_h = Input(shape=(latent_dim,))\n",
        "decoder_state_input_c = Input(shape=(latent_dim,))\n",
        "decoder_hidden_state_input = Input(shape=(max_length_text,latent_dim)) # change\n",
        "\n",
        "dec_emb2= dec_emb_layer(decoder_inputs) \n",
        "\n",
        "decoder_outputs2, state_h2, state_c2 = decoder_lstm(dec_emb2, initial_state=[decoder_state_input_h, decoder_state_input_c])\n",
        "\n",
        "attn_out_inf, attn_states_inf = attn_layer([decoder_hidden_state_input, decoder_outputs2])\n",
        "decoder_inf_concat = Concatenate(axis=-1, name='concat')([decoder_outputs2, attn_out_inf])\n",
        "\n",
        "decoder_outputs2 = decoder_dense(decoder_inf_concat) \n",
        "\n",
        "decoder_model = Model(\n",
        "    [decoder_inputs] + [decoder_hidden_state_input,decoder_state_input_h, decoder_state_input_c],\n",
        "    [decoder_outputs2] + [state_h2, state_c2])"
      ],
      "execution_count": 0,
      "outputs": []
    },
    {
      "cell_type": "code",
      "metadata": {
        "id": "sJpPOIpTAodD",
        "colab_type": "code",
        "colab": {}
      },
      "source": [
        "def decode_sequence(input_seq):\n",
        "    # Encode the input as state vectors.\n",
        "    e_out, e_h, e_c = encoder_model.predict(input_seq)\n",
        "    \n",
        "    # Generate empty target sequence of length 1.\n",
        "    target_seq = np.zeros((1,1))\n",
        "    \n",
        "    # Populate the first word of target sequence with the start word.\n",
        "    target_seq[0, 0] = target_word_index['sostok']\n",
        "\n",
        "    stop_condition = False\n",
        "    decoded_sentence = ''\n",
        "    while not stop_condition:\n",
        "      \n",
        "        output_tokens, h, c = decoder_model.predict([target_seq] + [e_out, e_h, e_c])\n",
        "        \n",
        "        # Sample a token\n",
        "        \n",
        "        \n",
        "        sampled_token_index = np.argmax(output_tokens[0, -1, :])\n",
        "        \n",
        "        if(sampled_token_index==0):\n",
        "          break;\n",
        "        sampled_token = reverse_target_word_index[sampled_token_index]\n",
        "        \n",
        "        \n",
        "        if(sampled_token!='eostok'):\n",
        "            decoded_sentence += ' '+sampled_token\n",
        "            \n",
        "            \n",
        "        # Exit condition: either hit max length or find stop word.\n",
        "        if (sampled_token == 'eostok'  or len(decoded_sentence.split()) >= (max_summary_len-1)):\n",
        "            stop_condition = True\n",
        "\n",
        "        # Update the target sequence (of length 1).\n",
        "        target_seq = np.zeros((1,1))\n",
        "        target_seq[0, 0] = sampled_token_index\n",
        "\n",
        "        # Update internal states\n",
        "        e_h, e_c = h, c\n",
        "\n",
        "    return decoded_sentence"
      ],
      "execution_count": 0,
      "outputs": []
    },
    {
      "cell_type": "code",
      "metadata": {
        "id": "58CC6qfXA7Yj",
        "colab_type": "code",
        "colab": {}
      },
      "source": [
        "def seq2summary(input_seq):\n",
        "    newString=''\n",
        "    for i in input_seq:\n",
        "        if((i!=0 and i!=target_word_index['sostok']) and i!=target_word_index['eostok']):\n",
        "            newString=newString+reverse_target_word_index[i]+' '\n",
        "    return newString\n",
        "\n",
        "def seq2text(input_seq):\n",
        "    newString=''\n",
        "    for i in input_seq:\n",
        "        if(i!=0):\n",
        "            newString=newString+reverse_source_word_index[i]+' '\n",
        "    return newString"
      ],
      "execution_count": 0,
      "outputs": []
    },
    {
      "cell_type": "code",
      "metadata": {
        "id": "o_XnbRGbA-fm",
        "colab_type": "code",
        "outputId": "007554f9-e347-477e-b97c-77352c9741d8",
        "colab": {
          "base_uri": "https://localhost:8080/",
          "height": 1000
        }
      },
      "source": [
        "for i in range(0,100):\n",
        "    print(\"Review:\",seq2text(X_train[i]))\n",
        "    print(\"Original summary:\",seq2summary(y_train[i]))\n",
        "    \n",
        "    print(\"Predicted summary:\",decode_sequence(X_train[i].reshape(1,max_length_text)))\n",
        "    \n",
        "    print(\"\\n\")"
      ],
      "execution_count": 121,
      "outputs": [
        {
          "output_type": "stream",
          "text": [
            "Review: grandson loves makes cup everytime quick easy taste good \n",
            "Original summary: treats dont nice stinger full amazing love \n",
            "Predicted summary:  nice stinger stinger full amazing love\n",
            "\n",
            "\n",
            "Review: enjoyed cookies much fact saw sale grocery store bought good stuff \n",
            "Original summary: could rodeo interesting found value kcup rice \n",
            "Predicted summary:  could rodeo found value kcup\n",
            "\n",
            "\n",
            "Review: great treats fact thing use dog price seem way wrong far possibly local petsmart \n",
            "Original summary: favorite liver salt grain expensive trail cats capputo \n",
            "Predicted summary:  liver salt grain expensive trail cats capputo\n",
            "\n",
            "\n",
            "Review: used product cake topper wedding cake made worked well happy got compliments \n",
            "Original summary: pocky delightful gluten teeth snack find cat werithers \n",
            "Predicted summary:  barely gluten teeth snack find fun million\n",
            "\n",
            "\n",
            "Review: sadly disappointed brand assam tea properly brewed tea weak brewed another pot added tea hopes making drinkable second pot weak bitter \n",
            "Original summary: yummy ahhhh pods organics something crispy disposakups use \n",
            "Predicted summary:  ahhhh pods simple something crispy disposakups use\n",
            "\n",
            "\n",
            "Review: proven excellent food bulldog longer tear coat actually eats less food recommended \n",
            "Original summary: lovely celebration hint licorice rock natural yum granola \n",
            "Predicted summary:  except hint licorice rock natural yum granola\n",
            "\n",
            "\n",
            "Review: guess flavors switch taste better thought berry flavor aftertaste probably would okay cherry flavored said im sure would let dislike flavor trying could personal preference \n",
            "Original summary: tea mints cornmeal product never sugar extraordinary vegetarian \n",
            "Predicted summary:  mints cornmeal product english sugar extraordinary vegetarian\n",
            "\n",
            "\n",
            "Review: drink lot tea nice tea change lightly flavored quite tasty \n",
            "Original summary: yummy breakfast yummy ingredient dream bed stale smooth \n",
            "Predicted summary:  yummy breakfast regular market bed stale smooth\n",
            "\n",
            "\n",
            "Review: beaba freezer tray pink exactly expected great item love \n",
            "Original summary: making paste bits soy delish tried best \n",
            "Predicted summary:  50 crazy soy delish sostok tried best\n",
            "\n",
            "\n",
            "Review: love crisp bread made whole grains contain corn syrup stays fresh weeks opened soft yet crunchy tastes great recommend definetly buy \n",
            "Original summary: smells morning needs sweet tastes seriously excellent \n",
            "Predicted summary:  morning needs sweet sostok tastes seriously excellent\n",
            "\n",
            "\n",
            "Review: love soup healthy full bad ingredients like chicken noodle better rice pretty good \n",
            "Original summary: bland great bag peas awesome dark got \n",
            "Predicted summary:  coconut peas peas awesome dark got\n",
            "\n",
            "\n",
            "Review: nice sweet tastes like strawberry kiwi natural br recommend switch \n",
            "Original summary: sweet great oatcakes boost disappointing tasting tastes balanced \n",
            "Predicted summary:  easy great oatcakes stuff tasting tastes balanced\n",
            "\n",
            "\n",
            "Review: good buy variety still close enough didnt worry baby like next one \n",
            "Original summary: noodle expected money fly potato great dressing delicious \n",
            "Predicted summary:  money fly fly potato great dressing delicious\n",
            "\n",
            "\n",
            "Review: good quality tea like variety pack best flavors one box price pay amazoncom really great beats supermarket far \n",
            "Original summary: favorite stars drive flavor kavli combination expensive \n",
            "Predicted summary:  stars drive flavor sostok kavli combination expensive\n",
            "\n",
            "\n",
            "Review: love stuff currently deployed afghanistan working extremely long hours keep delicious little office area saved many times couldnt leave get complete meal love \n",
            "Original summary: puck looking pasta serious dog deeelish disgusting best \n",
            "Predicted summary:  ghee pasta serious dog deeelish disgusting best\n",
            "\n",
            "\n",
            "Review: sampler pack convenient weve purchased twice enjoyed variety crystal light husbands favorite lemonade mine wild strawberry request id make id love see variety pack includes decaf tea \n",
            "Original summary: another best bars overpriced quick signature diet yummy \n",
            "Predicted summary:  bars best bars overpriced signature diet yummy\n",
            "\n",
            "\n",
            "Review: think title says ingredients arent exactly would choose texture bit odd bit like raisins taste really good nutrition info fits within diet \n",
            "Original summary: love flavor yummmm kept frog mouth pb2 \n",
            "Predicted summary:  flavor\n",
            "\n",
            "\n",
            "Review: kittens started outside house started feeding rather buying smaller bags great value multiple cats kittens love food always look forward eating shipped right door cant go wrong \n",
            "Original summary: cafe worth orzo syrup sodium green decaf grain \n",
            "Predicted summary:  worth orzo syrup sodium green decaf grain\n",
            "\n",
            "\n",
            "Review: add cookies cream protein chocolate banana vanilla make great tasting drinkable drink drawback price store near live \n",
            "Original summary: strong organics much secret favorite value star rocks \n",
            "Predicted summary:  strong pear popchips market makes take take\n",
            "\n",
            "\n",
            "Review: gave headache much sugar ingredients didnt sit well would recommend someone trying eat healthier \n",
            "Original summary: amazingly snack tea tastes orange never cookies pockets \n",
            "Predicted summary:  tea tastes orange orange never cookies pockets\n",
            "\n",
            "\n",
            "Review: got dad wish list thought would spicy flavorful tasted like funky smell box came 18 individual bags open one bag impossible even want put nasty avoid cost yuck \n",
            "Original summary: approved healthy cant oatmeal warning broke even revolution \n",
            "Predicted summary:  cant oatmeal oatmeal warning broke even revolution\n",
            "\n",
            "\n",
            "Review: often dogs need pill pocket take meds wont eat beef flavor willing take chicken flavor great way dog take \n",
            "Original summary: quaker customer bag product salt really customer \n",
            "Predicted summary:  product really product sostok salt really customer\n",
            "\n",
            "\n",
            "Review: roland red caviar price good makes good presentation company tastes good purchased many items amazon even large ticket items satisfied products service \n",
            "Original summary: food healthy bbq bunnies chili single coconut powder \n",
            "Predicted summary:  healthy bbq bunnies chili single alternative powder\n",
            "\n",
            "\n",
            "Review: cook lot chinese dishes household sweet chili sauce must one favorites sesame chicken couldnt seem get flavor right added yum \n",
            "Original summary: bag pasta liver dog product syrup chicken joe \n",
            "Predicted summary:  pasta liver dog product syrup chicken joe\n",
            "\n",
            "\n",
            "Review: dog loves treats really helped arthritis reordered tried items local pet stores nothing likes well works well \n",
            "Original summary: cats ones spicy likes beware snack fun snack \n",
            "Predicted summary:  ones spicy likes beware snack fun snack\n",
            "\n",
            "\n",
            "Review: guess animals cat dog cant read bag almost refuse eat stuff unless nothing else available hungry \n",
            "Original summary: filbert cookies rice cakes likes caramel absolutely cannot \n",
            "Predicted summary:  rice flavor beware option worked far odd\n",
            "\n",
            "\n",
            "Review: coffee okay certainly good green mountains breakfast blend doesnt taste good \n",
            "Original summary: enough balls old vanilla shipping love \n",
            "Predicted summary:  enough balls old vanilla shipping love\n",
            "\n",
            "\n",
            "Review: handful shipment brewing water slowly large quantities grounds released cup gross way use empty contents reusable kcup \n",
            "Original summary: nice branston salt tasty multiportion cacao cleaning soda \n",
            "Predicted summary:  powdered salt tasty thank cacao cleaning vanilla\n",
            "\n",
            "\n",
            "Review: although sun butter tastes like sunflower seeds nothing like peanut butter still tastes great smooth creamy texture drawback noticed little runny compared peanut butter \n",
            "Original summary: flavored secret wasnt chocolate chiclets versatile beans seasoning \n",
            "Predicted summary:  worst wasnt chocolate chiclets versatile beans seasoning\n",
            "\n",
            "\n",
            "Review: plant pretty didnt gave ask ask plant picture send another one darker color good open send back also small one fake \n",
            "Original summary: sea 50 energy better white delicious childhood \n",
            "Predicted summary:  sea 50 energy better white delicious childhood\n",
            "\n",
            "\n",
            "Review: tried many indigestion products tea really stomach indigestion problems plus tastes great also \n",
            "Original summary: flavor nutrition egyptian almonds starbucks sweet better \n",
            "Predicted summary:  nutrition egyptian almonds starbucks sweet sostok better\n",
            "\n",
            "\n",
            "Review: looking good flavored coffee strong yet weak great price amazon well worth money coffee lovers \n",
            "Original summary: favorite food snack item doesnt good apples \n",
            "Predicted summary:  favorite food snack item doesnt good apples\n",
            "\n",
            "\n",
            "Review: like picture package loves treats perfect size treat reward even look call thembr puppy paws treats good texture mess smell attractive good dog \n",
            "Original summary: pork flavored solution brew alive really \n",
            "Predicted summary:  flavored solution solution brew alive\n",
            "\n",
            "\n",
            "Review: yummy great everyday coffee newman products general wonderful earth kcup jet fuel kcups enough \n",
            "Original summary: pick deal poptart soda drinker heathly soup expected \n",
            "Predicted summary:  still balls vanilla simple simple soup time\n",
            "\n",
            "\n",
            "Review: unique item wanted piece christmas year old nephew way year old dad dont see every fun \n",
            "Original summary: salt kids nuts pucks stuff bars ok wheres \n",
            "Predicted summary:  kids nuts pucks stuff bars ok wheres\n",
            "\n",
            "\n",
            "Review: use little plastic shot glass brew perfectly office love thats dry grams makes hot tea cant find local supermarket glad amazon \n",
            "Original summary: little yummy green price cats combination lovers food \n",
            "Predicted summary:  yummy green price cats combination lovers food\n",
            "\n",
            "\n",
            "Review: chips bad taste little money would pay bag healthy chips \n",
            "Original summary: love chocolate doesnt tea stars crackers candy buy \n",
            "Predicted summary:  chocolate doesnt tea stars crackers candy buy\n",
            "\n",
            "\n",
            "Review: good tea nice flavor complaint rich tea use extra tea bags sold bulk helps set price using tea bags \n",
            "Original summary: getting quite liquor bitterness favorite gum yummy maple \n",
            "Predicted summary:  quite liquor bitterness favorite gum yummy maple\n",
            "\n",
            "\n",
            "Review: roasted garlic seasoning blend containers pack seasoning turns meat vegetable tasty treat \n",
            "Original summary: twizzlers quick creamer hear agree happened smooth cookie \n",
            "Predicted summary:  dont dont pricy agree happened smooth cookie\n",
            "\n",
            "\n",
            "Review: product great dogs sensitive eating rawhide great choking getting sick \n",
            "Original summary: eat harbor worth gods alltime whole pleasing \n",
            "Predicted summary:  eat small gods sostok alltime whole pleasing\n",
            "\n",
            "\n",
            "Review: ive tasty nuts good try im happy product \n",
            "Original summary: chips smooth texture treat one find coffee \n",
            "Predicted summary:  smooth texture\n",
            "\n",
            "\n",
            "Review: care product thought tea sisters use drink school found tea use drink actually came root particular type tree \n",
            "Original summary: tasty much licorice juice scooby apricot pink woebers \n",
            "Predicted summary:  much licorice juice scooby vinegar pink serve\n",
            "\n",
            "\n",
            "Review: things low cal oreos minus creme minus cookie title oreo basically total nothing black crackers sugar want purchase \n",
            "Original summary: ramen compared likes fan tasted fresh cant light \n",
            "Predicted summary:  compared likes fan tasted fresh cant light\n",
            "\n",
            "\n",
            "Review: good strong coffee enough get moving organic always plus also good ice \n",
            "Original summary: dog experimental okay kcups starbucks better problem \n",
            "Predicted summary:  experimental free puck starbucks better\n",
            "\n",
            "\n",
            "Review: great texture balance sweet butter right adults kids love recommended \n",
            "Original summary: yummo easy seasoning syrup doo delivery best granola \n",
            "Predicted summary:  flavored easy seasoning syrup delivery best granola\n",
            "\n",
            "\n",
            "Review: best tasting tortilla chips ever become allergic tomatoes love tortilla chips much flavor chips longer miss de prefer eat plain also right amount heat make spicy \n",
            "Original summary: cookies lunch better syrup always recommended perfect curls \n",
            "Predicted summary:  lunch better syrup always recommended perfect curls\n",
            "\n",
            "\n",
            "Review: full hot spots used within week hot spots gone smell kinda strong bad \n",
            "Original summary: thin little flakes premium brew form pretty rich \n",
            "Predicted summary:  hoping looking snacks bit form pretty rich\n",
            "\n",
            "\n",
            "Review: tried starbucks instant coffee taste like coffee taste like get instant coffees give thumbs \n",
            "Original summary: good love great dog formula home peanut rise \n",
            "Predicted summary:  love love great formula home peanut rise\n",
            "\n",
            "\n",
            "Review: ive keurig two years drink one cup every morning every time run type coffee buy box something different first box actually thrown away would recommend coffee keurig \n",
            "Original summary: sauce licorice unit fabulous tea tastes good right \n",
            "Predicted summary:  unit unit fabulous tea tastes good right\n",
            "\n",
            "\n",
            "Review: didnt expect much powdered cocoa cup heres tip put 8oz setting add 11 ratio heated milk tastes amazingly goodbr br course add little irish cream tastes even better \n",
            "Original summary: king ive chocolate caused corn sweet healthy awesome \n",
            "Predicted summary:  hit chocolate caused corn sweet healthy awesome\n",
            "\n",
            "\n",
            "Review: really wanted kids love convenient go delicious seemed unfortunately none kids tastes like stage baby food bland runny get quite messy squeeze little hard child drops \n",
            "Original summary: dog stale surprised itso chocolate makes definitely tacs \n",
            "Predicted summary:  stale surprised itso chocolate makes definitely tacs\n",
            "\n",
            "\n",
            "Review: cant beat price buy looked around couldnt find good \n",
            "Original summary: summer favorite excellent cute fruit pasta price \n",
            "Predicted summary:  favorite excellent cute fruit pasta price\n",
            "\n",
            "\n",
            "Review: stuff terrific least 20 years since seen plum jelly jam stores area taste amish made plum jam remember smooth texture sweet without sweet order brand \n",
            "Original summary: helps low flavored easy rinds easy mix works \n",
            "Predicted summary:  flavored work easy rinds easy mix works\n",
            "\n",
            "\n",
            "Review: impressed flavors flavors wasnt sure going really good also flavors intense getting bland chip im monthly plan ive already order ahead schedule twice \n",
            "Original summary: fragrance shakes chips teas mix hooked kidstoddlers cold \n",
            "Predicted summary:  gum shakes chips teas mix going cold\n",
            "\n",
            "\n",
            "Review: tasted last week thought excellent fact fiber goodness said ill going peach flavor also packs bit protein \n",
            "Original summary: nasty bit treacle product better winner popcorn goodness \n",
            "Predicted summary:  bit treacle product better winner popcorn goodness\n",
            "\n",
            "\n",
            "Review: looking individual packets carry purse eat travel dont price great \n",
            "Original summary: macadamia waffle scott cookies doggy stuff favorite \n",
            "Predicted summary:  addicted doggy cookies doggy stuff favorite sostok\n",
            "\n",
            "\n",
            "Review: liked idea small popcorn pops really well popper doesnt much popcorn flavor pretty bummed \n",
            "Original summary: snack oyster shipping ever peanuts product got dripping \n",
            "Predicted summary:  snack shipping ever peanuts product got dripping\n",
            "\n",
            "\n",
            "Review: costco stopped carrying near found amazon cheaper br came pretty quick unbeatable price good hot cereal got costco damage anything \n",
            "Original summary: favorite little stomach cat winter children pack \n",
            "Predicted summary: \n",
            "\n",
            "\n",
            "Review: 12 year old cat loves food seems less since switching food cats royal products high quality brand \n",
            "Original summary: fo yum outstanding gooey coconut didnt hard works \n",
            "Predicted summary:  yum yum gooey coconut didnt hard works\n",
            "\n",
            "\n",
            "Review: like flavored coffee one must trybr rich taste smells wonderful good want stay home sip day \n",
            "Original summary: addicting deal cant jam order guilt service \n",
            "Predicted summary:  though\n",
            "\n",
            "\n",
            "Review: ive tried dozen varieties kcups far favorite strong bitter great flavor choice \n",
            "Original summary: soup expensive wonderful pretty use product tangy \n",
            "Predicted summary:  strong wonderful pretty use sostok product tangy\n",
            "\n",
            "\n",
            "Review: never met kettle brand chip like chips great loaded potato flavor flavorful like sweet onion chips better also top list greattasting potato chips kettle chips great chips money \n",
            "Original summary: fries simply buy supplement buy buy doesnt \n",
            "Predicted summary:  buy supplement supplement buy sostok buy doesnt\n",
            "\n",
            "\n",
            "Review: like better regular altoids theyre even costly youd better like \n",
            "Original summary: cups mona awful healthy girls garbanzo awesome great \n",
            "Predicted summary:  easy finei awful healthy garbanzo awesome great\n",
            "\n",
            "\n",
            "Review: yuck taste good quite tough better buying bags rinds already \n",
            "Original summary: stale consumer awesome alternative maple son teas \n",
            "Predicted summary:  stale consumer awesome alternative maple son teas\n",
            "\n",
            "\n",
            "Review: store bought cookie good crunchy good flavorbr br even dont worth trying \n",
            "Original summary: needs lisa tasting healthy stuff item never \n",
            "Predicted summary:  needs\n",
            "\n",
            "\n",
            "Review: mix fairly picky treats goes nuts ive trying find something chicken jerky china reading reports dogs dog really loves seem fit bill nicely \n",
            "Original summary: eat really flavor treats liver delicate toddler pricy \n",
            "Predicted summary:  really flavor treats liver delicate toddler pricy\n",
            "\n",
            "\n",
            "Review: found coffee great first started came large setting coffee way watery also flavor overpowering kind tastes like br pretty good evening desert coffee kinda gross \n",
            "Original summary: tasting got adds krurig good form branston \n",
            "Predicted summary:  tasting\n",
            "\n",
            "\n",
            "Review: 80 count pack advertised per would make package cost 80 close 50 dollars \n",
            "Original summary: tea perfect salty even fondant noodle standard 12 \n",
            "Predicted summary:  perfect salty starbucks fondant noodle standard 12\n",
            "\n",
            "\n",
            "Review: grow well taste great sometimes eat plain \n",
            "Original summary: pickle snack love puppy cookies lunch \n",
            "Predicted summary:  love love sostok puppy cookies lunch\n",
            "\n",
            "\n",
            "Review: heard drink friend try one traveling loved sat plane enjoying iti thinking bought another one \n",
            "Original summary: sinus momsbut kick 36 everyone kcup variety delicious \n",
            "Predicted summary:  momsbut kick 36 everyone kcup variety delicious\n",
            "\n",
            "\n",
            "Review: love love stuff add meats great smokey taste use herbs spices brown sugar make super rub \n",
            "Original summary: tasty aid 20 olive fresh perfect awsome wp \n",
            "Predicted summary:  aid 20 olive fresh perfect awsome wp\n",
            "\n",
            "\n",
            "Review: candy fresh good value looking bulk product good way go though see price really gone since ordered free shipping \n",
            "Original summary: bars favorite flavor premium small cocoa happy made \n",
            "Predicted summary:  favorite flavor premium small cocoa happy made\n",
            "\n",
            "\n",
            "Review: thanks thoughtful packaging bonsai arrived 100 intact even leaf got shipping healthy came pretty pot dark green leaves instructions helpful cant wait flowers show \n",
            "Original summary: enough lousy sure nurserosado green beer cesar lid \n",
            "Predicted summary:  lousy sure nurserosado green beer cesar lid\n",
            "\n",
            "\n",
            "Review: best granola cereal ive ever eaten dont soak eating lol \n",
            "Original summary: stomach chips bad feel stuff terms worth hey \n",
            "Predicted summary:  dont feel stuff stuff unique worth hey\n",
            "\n",
            "\n",
            "Review: ordered daughters wedding cake overnight would get next daybr came four days nice \n",
            "Original summary: tea dog dressing nanas juice others fine breakfast \n",
            "Predicted summary:  dog dressing nanas juice others fine breakfast\n",
            "\n",
            "\n",
            "Review: packaging excellent candy arrived perfect condition never eaten kit kat crisp fresh time eaten fair share kit kat candy say pleasant transaction \n",
            "Original summary: cans mahogany anyone presence espresso refreshing chia follow \n",
            "Predicted summary:  mahogany anyone presence espresso refreshing chia follow\n",
            "\n",
            "\n",
            "Review: never even consider dog food corn wheat soy grain place dogs diet \n",
            "Original summary: yum name garlic altoids almond pill eat pb2 \n",
            "Predicted summary:  name garlic altoids almond pill eat pb2\n",
            "\n",
            "\n",
            "Review: ordered disposakups several coffees bags left wanted use cups work great quickly figured filter must order lid fit easy load easy \n",
            "Original summary: lb say mix chemical delicate amazing matinis amazing \n",
            "Predicted summary:  gringo mix chemical delicate amazing matinis amazing\n",
            "\n",
            "\n",
            "Review: one best dried organic crackers around highly recommend compared available types similar products \n",
            "Original summary: fruit bold tastes versatile absolutely mom weight coconut \n",
            "Predicted summary:  bold tastes versatile absolutely mom weight coconut\n",
            "\n",
            "\n",
            "Review: coffee always fond melitta coffee lived great reputation although bit pricey \n",
            "Original summary: bloody good penne slide iced popcorn start \n",
            "Predicted summary:  good want sostok cans iced popcorn start\n",
            "\n",
            "\n",
            "Review: purchased three pounds arrived well packaged trying find replacement blend good keep looking \n",
            "Original summary: save never price exceeded vanilla review time \n",
            "Predicted summary:  enjoyed price exceeded vanilla\n",
            "\n",
            "\n",
            "Review: like onion garlic flavor really tastes good fresh much healthier non organic soy nuts like add salads instead \n",
            "Original summary: princess okay altoids texture great ive beat oh \n",
            "Predicted summary:  pockets ate texture great ive beat oh\n",
            "\n",
            "\n",
            "Review: husband needed salt products keep blood pressure health valley salt soups great low sodium also taste great \n",
            "Original summary: pop allergies horrible country better love \n",
            "Predicted summary:  actually sostok horrible country better love sostok\n",
            "\n",
            "\n",
            "Review: one product terrier eat food careful feed dog also gets treats loves food product simple ingredients additives dogs need \n",
            "Original summary: treats yum coffee memories bland cook eat brownies \n",
            "Predicted summary:  yum coffee memories bland cook eat brownies\n",
            "\n",
            "\n",
            "Review: price misleading high shipping rate added tea longer deal although finally arrived half decent tea worth shipping wait go local tea house next time \n",
            "Original summary: made beer decaf cats yummy wont dressing hot \n",
            "Predicted summary:  beer decaf okay yummy wont grey hot\n",
            "\n",
            "\n",
            "Review: really good gum lasts longer gum tried great flavor \n",
            "Original summary: actually list lovely actually like product \n",
            "Predicted summary:  actually list lovely actually like sostok product\n",
            "\n",
            "\n",
            "Review: vendor provided quick service fresh product packaged securely boy oberto cocktail pep tasted way remembered \n",
            "Original summary: blind altoid liters popcord truffet real salt woof \n",
            "Predicted summary:  info away second beans real salt woof\n",
            "\n",
            "\n",
            "Review: love hazelnut coffee didnt enough coffee flavor kind weak side opinion ill keep looking \n",
            "Original summary: product flour disposakups powdered herbal nasty review time \n",
            "Predicted summary:  product walnuts yet herbal nasty review time\n",
            "\n",
            "\n",
            "Review: delicious brownies tried butter option good added tablespoon leftover coffee batter toasted walnuts nonceliac husband brownies love mix whole family likes eat \n",
            "Original summary: big edible best organic convenient new beware cookies \n",
            "Predicted summary:  edible best organic convenient new beware cookies\n",
            "\n",
            "\n",
            "Review: enjoy maple syrup waffles pancakes great product made small vermont syrup natural tasty complaints \n",
            "Original summary: coffee gluten white bigelow pricey disappointing smooth addiction \n",
            "Predicted summary:  gluten white mint pricey pricey loved addiction\n",
            "\n",
            "\n",
            "Review: like dogswell happy hips chicken breast quality lack chemical additives cat dog would eat could ordering auto ship saves even amazons discount pricing \n",
            "Original summary: newmans bake take turtles healthy havent shows halfway \n",
            "Predicted summary:  info lamb colombian healthy havent shows halfway\n",
            "\n",
            "\n",
            "Review: couldnt really taste bergamot tea slight orange peel taste since organic expected cleaner richer taste ok good regular twinings earl grey brands organic superior either twinings much higher price \n",
            "Original summary: milk okay bubble bite european ever crystal favorite \n",
            "Predicted summary:  okay wrong bite european ever crystal favorite\n",
            "\n",
            "\n",
            "Review: gave packs christmas goodies saved one delicious gifts well received also \n",
            "Original summary: venisen mistake delicious dogs wasa snack yuck better \n",
            "Predicted summary:  buying delicious dogs wasa snack yuck better\n",
            "\n",
            "\n",
            "Review: gum super brings back bomb memories \n",
            "Original summary: actually awsome mic energy aching treets \n",
            "Predicted summary:  tried awsome flavors last refreshingly\n",
            "\n",
            "\n",
            "Review: bought daughters new microwave popcorn popper christmas gift says delicious pops smaller popcorn likes lot \n",
            "Original summary: hazelnut lowreys dogs expectations 100 peanuts beware loved \n",
            "Predicted summary:  lowreys dogs expectations 100 peanuts beware loved\n",
            "\n",
            "\n",
            "Review: paid 15 kit kat 70 cocoa dark chocolate received one pack four company unless comfortable paying 15 small candy bar would avoid guys \n",
            "Original summary: dairyfree tropical white espresso strawberry tea broke insanely \n",
            "Predicted summary:  broke tropical white strawberry tea broke insanely\n",
            "\n",
            "\n",
            "Review: things taste great price amazon widely stock prices low \n",
            "Original summary: love favorite food nomexcellent defective perfection horrible \n",
            "Predicted summary:  sostok favorite food nomexcellent defective perfection horrible\n",
            "\n",
            "\n",
            "Review: every time heated particular soup microwave container made popping sound popped turning tray fell spilled catch completely find eating noodles bottom left pasty noodle end serving \n",
            "Original summary: worth mushy quickly coffe reusable peas artificial mango \n",
            "Predicted summary:  worth king coffe reusable peas artificial mango\n",
            "\n",
            "\n",
            "Review: paul makes great seafood seasoning pork seasoning found vegetable seasoning spicy \n",
            "Original summary: icicle creamer im creamer free happened creamer curls \n",
            "Predicted summary:  mediocre im creamer free happened creamer curls\n",
            "\n",
            "\n",
            "Review: want good cup coffee anything fancy dark roast one go \n",
            "Original summary: nice good pack cheetos bread fat delicious decaf \n",
            "Predicted summary:  nice good pack bread fat delicious decaf\n",
            "\n",
            "\n"
          ],
          "name": "stdout"
        }
      ]
    },
    {
      "cell_type": "code",
      "metadata": {
        "id": "33wlZIYoMuO4",
        "colab_type": "code",
        "colab": {}
      },
      "source": [
        ""
      ],
      "execution_count": 0,
      "outputs": []
    }
  ]
}